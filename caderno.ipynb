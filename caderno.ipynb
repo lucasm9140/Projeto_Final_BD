{
 "cells": [
  {
   "cell_type": "code",
   "execution_count": 1,
   "metadata": {},
   "outputs": [
    {
     "name": "stdout",
     "output_type": "stream",
     "text": [
      "Collecting sqlalchemy\n",
      "  Downloading SQLAlchemy-2.0.31-cp312-cp312-win_amd64.whl.metadata (9.9 kB)\n",
      "Collecting pymysql\n",
      "  Downloading PyMySQL-1.1.1-py3-none-any.whl.metadata (4.4 kB)\n",
      "Collecting pandas\n",
      "  Downloading pandas-2.2.2-cp312-cp312-win_amd64.whl.metadata (19 kB)\n",
      "Collecting typing-extensions>=4.6.0 (from sqlalchemy)\n",
      "  Downloading typing_extensions-4.12.2-py3-none-any.whl.metadata (3.0 kB)\n",
      "Collecting greenlet!=0.4.17 (from sqlalchemy)\n",
      "  Downloading greenlet-3.0.3-cp312-cp312-win_amd64.whl.metadata (3.9 kB)\n",
      "Collecting numpy>=1.26.0 (from pandas)\n",
      "  Downloading numpy-2.0.1-cp312-cp312-win_amd64.whl.metadata (60 kB)\n",
      "     ---------------------------------------- 0.0/60.9 kB ? eta -:--:--\n",
      "     ---------------------------------------- 60.9/60.9 kB 3.4 MB/s eta 0:00:00\n",
      "Requirement already satisfied: python-dateutil>=2.8.2 in c:\\users\\lucas\\onedrive\\área de trabalho\\programas python dio-senai\\.venv\\lib\\site-packages (from pandas) (2.9.0.post0)\n",
      "Collecting pytz>=2020.1 (from pandas)\n",
      "  Downloading pytz-2024.1-py2.py3-none-any.whl.metadata (22 kB)\n",
      "Collecting tzdata>=2022.7 (from pandas)\n",
      "  Downloading tzdata-2024.1-py2.py3-none-any.whl.metadata (1.4 kB)\n",
      "Requirement already satisfied: six>=1.5 in c:\\users\\lucas\\onedrive\\área de trabalho\\programas python dio-senai\\.venv\\lib\\site-packages (from python-dateutil>=2.8.2->pandas) (1.16.0)\n",
      "Downloading SQLAlchemy-2.0.31-cp312-cp312-win_amd64.whl (2.1 MB)\n",
      "   ---------------------------------------- 0.0/2.1 MB ? eta -:--:--\n",
      "   --------- ------------------------------ 0.5/2.1 MB 15.2 MB/s eta 0:00:01\n",
      "   ---------------------------------------  2.1/2.1 MB 26.5 MB/s eta 0:00:01\n",
      "   ---------------------------------------- 2.1/2.1 MB 26.5 MB/s eta 0:00:00\n",
      "Downloading PyMySQL-1.1.1-py3-none-any.whl (44 kB)\n",
      "   ---------------------------------------- 0.0/45.0 kB ? eta -:--:--\n",
      "   ---------------------------------------- 45.0/45.0 kB 2.2 MB/s eta 0:00:00\n",
      "Downloading pandas-2.2.2-cp312-cp312-win_amd64.whl (11.5 MB)\n",
      "   ---------------------------------------- 0.0/11.5 MB ? eta -:--:--\n",
      "   --- ------------------------------------ 0.9/11.5 MB 18.5 MB/s eta 0:00:01\n",
      "   ----- ---------------------------------- 1.7/11.5 MB 17.6 MB/s eta 0:00:01\n",
      "   ------- -------------------------------- 2.2/11.5 MB 15.7 MB/s eta 0:00:01\n",
      "   ------------ --------------------------- 3.6/11.5 MB 23.3 MB/s eta 0:00:01\n",
      "   ----------------- ---------------------- 5.1/11.5 MB 23.4 MB/s eta 0:00:01\n",
      "   ----------------------- ---------------- 6.8/11.5 MB 24.0 MB/s eta 0:00:01\n",
      "   ---------------------------- ----------- 8.1/11.5 MB 24.5 MB/s eta 0:00:01\n",
      "   -------------------------------- ------- 9.4/11.5 MB 24.9 MB/s eta 0:00:01\n",
      "   ------------------------------------ --- 10.6/11.5 MB 25.2 MB/s eta 0:00:01\n",
      "   ---------------------------------------  11.5/11.5 MB 26.2 MB/s eta 0:00:01\n",
      "   ---------------------------------------- 11.5/11.5 MB 23.4 MB/s eta 0:00:00\n",
      "Downloading greenlet-3.0.3-cp312-cp312-win_amd64.whl (293 kB)\n",
      "   ---------------------------------------- 0.0/293.6 kB ? eta -:--:--\n",
      "   --------------------------------------- 293.6/293.6 kB 17.7 MB/s eta 0:00:00\n",
      "Downloading numpy-2.0.1-cp312-cp312-win_amd64.whl (16.3 MB)\n",
      "   ---------------------------------------- 0.0/16.3 MB ? eta -:--:--\n",
      "   ---- ----------------------------------- 1.8/16.3 MB 54.4 MB/s eta 0:00:01\n",
      "   ----- ---------------------------------- 2.3/16.3 MB 29.8 MB/s eta 0:00:01\n",
      "   ----------- ---------------------------- 4.5/16.3 MB 31.9 MB/s eta 0:00:01\n",
      "   ------------- -------------------------- 5.5/16.3 MB 29.0 MB/s eta 0:00:01\n",
      "   --------------- ------------------------ 6.4/16.3 MB 27.2 MB/s eta 0:00:01\n",
      "   ------------------ --------------------- 7.3/16.3 MB 26.0 MB/s eta 0:00:01\n",
      "   -------------------- ------------------- 8.3/16.3 MB 25.2 MB/s eta 0:00:01\n",
      "   ---------------------- ----------------- 9.2/16.3 MB 24.4 MB/s eta 0:00:01\n",
      "   ------------------------ --------------- 9.8/16.3 MB 23.3 MB/s eta 0:00:01\n",
      "   -------------------------- ------------- 10.7/16.3 MB 21.8 MB/s eta 0:00:01\n",
      "   ---------------------------- ----------- 11.7/16.3 MB 21.1 MB/s eta 0:00:01\n",
      "   ------------------------------- -------- 12.7/16.3 MB 21.8 MB/s eta 0:00:01\n",
      "   --------------------------------- ------ 13.6/16.3 MB 19.8 MB/s eta 0:00:01\n",
      "   ----------------------------------- ---- 14.6/16.3 MB 18.7 MB/s eta 0:00:01\n",
      "   -------------------------------------- - 15.6/16.3 MB 18.7 MB/s eta 0:00:01\n",
      "   ---------------------------------------  16.3/16.3 MB 18.7 MB/s eta 0:00:01\n",
      "   ---------------------------------------- 16.3/16.3 MB 16.8 MB/s eta 0:00:00\n",
      "Downloading pytz-2024.1-py2.py3-none-any.whl (505 kB)\n",
      "   ---------------------------------------- 0.0/505.5 kB ? eta -:--:--\n",
      "   --------------------------------------  501.8/505.5 kB 30.7 MB/s eta 0:00:01\n",
      "   --------------------------------------- 505.5/505.5 kB 16.0 MB/s eta 0:00:00\n",
      "Downloading typing_extensions-4.12.2-py3-none-any.whl (37 kB)\n",
      "Downloading tzdata-2024.1-py2.py3-none-any.whl (345 kB)\n",
      "   ---------------------------------------- 0.0/345.4 kB ? eta -:--:--\n",
      "   --------------------------------------- 345.4/345.4 kB 20.9 MB/s eta 0:00:00\n",
      "Installing collected packages: pytz, tzdata, typing-extensions, pymysql, numpy, greenlet, sqlalchemy, pandas\n",
      "Successfully installed greenlet-3.0.3 numpy-2.0.1 pandas-2.2.2 pymysql-1.1.1 pytz-2024.1 sqlalchemy-2.0.31 typing-extensions-4.12.2 tzdata-2024.1\n"
     ]
    },
    {
     "name": "stderr",
     "output_type": "stream",
     "text": [
      "\n",
      "[notice] A new release of pip is available: 24.1.1 -> 24.2\n",
      "[notice] To update, run: python.exe -m pip install --upgrade pip\n"
     ]
    }
   ],
   "source": [
    "! pip install sqlalchemy pymysql pandas"
   ]
  },
  {
   "cell_type": "code",
   "execution_count": 2,
   "metadata": {},
   "outputs": [],
   "source": [
    "# Notebook Jupyter: Conectando ao MySQL com SQLAlchemy e lendo um SQL\n",
    "\n",
    "## 1. Importando Bibliotecas\n",
    "\n",
    "import pandas as pd\n",
    "from sqlalchemy import create_engine"
   ]
  },
  {
   "cell_type": "code",
   "execution_count": 3,
   "metadata": {},
   "outputs": [
    {
     "name": "stdout",
     "output_type": "stream",
     "text": [
      "Collecting mysql\n",
      "  Downloading mysql-0.0.3-py3-none-any.whl.metadata (746 bytes)\n",
      "Collecting mysqlclient (from mysql)\n",
      "  Downloading mysqlclient-2.2.4-cp312-cp312-win_amd64.whl.metadata (4.6 kB)\n",
      "Downloading mysql-0.0.3-py3-none-any.whl (1.2 kB)\n",
      "Downloading mysqlclient-2.2.4-cp312-cp312-win_amd64.whl (203 kB)\n",
      "   ---------------------------------------- 0.0/203.3 kB ? eta -:--:--\n",
      "   ---------------------------------------- 203.3/203.3 kB 6.2 MB/s eta 0:00:00\n",
      "Installing collected packages: mysqlclient, mysql\n",
      "Successfully installed mysql-0.0.3 mysqlclient-2.2.4\n"
     ]
    },
    {
     "name": "stderr",
     "output_type": "stream",
     "text": [
      "\n",
      "[notice] A new release of pip is available: 24.1.1 -> 24.2\n",
      "[notice] To update, run: python.exe -m pip install --upgrade pip\n"
     ]
    }
   ],
   "source": [
    "! pip install mysql"
   ]
  },
  {
   "cell_type": "code",
   "execution_count": 4,
   "metadata": {},
   "outputs": [],
   "source": [
    "import pymysql"
   ]
  },
  {
   "cell_type": "code",
   "execution_count": 26,
   "metadata": {},
   "outputs": [
    {
     "name": "stdout",
     "output_type": "stream",
     "text": [
      "Conexao bem-sucedida!\n",
      "Consulta realizada e DataFrame criado!\n"
     ]
    },
    {
     "name": "stderr",
     "output_type": "stream",
     "text": [
      "C:\\Users\\lucas\\AppData\\Local\\Temp\\ipykernel_7128\\2628448374.py:18: UserWarning: pandas only supports SQLAlchemy connectable (engine/connection) or database string URI or sqlite3 DBAPI2 connection. Other DBAPI2 objects are not tested. Please consider using SQLAlchemy.\n",
      "  df_alunos = pd.read_sql(query, connection)\n"
     ]
    }
   ],
   "source": [
    "# Definir a variável global\n",
    "df_alunos = None\n",
    "\n",
    "def test_connection():\n",
    "    global df_alunos\n",
    "    try:\n",
    "        connection = pymysql.connect(\n",
    "            host='localhost',\n",
    "            user='lucas',\n",
    "            password='',\n",
    "            database='school',\n",
    "            port=3306\n",
    "        )\n",
    "        print(\"Conexao bem-sucedida!\")\n",
    "\n",
    "        # Realizar a consulta\n",
    "        query = \"SELECT * FROM aluno\"\n",
    "        df_alunos = pd.read_sql(query, connection)\n",
    "\n",
    "        # Fechar a conexao\n",
    "        connection.close()\n",
    "\n",
    "        print(\"Consulta realizada e DataFrame criado!\")\n",
    "    \n",
    "    except Exception as e:\n",
    "        print(f\"Erro ao conectar ou consultar: {e}\")\n",
    "\n",
    "# Chamar a função para estabelecer a conexão e realizar a consulta\n",
    "test_connection()"
   ]
  },
  {
   "cell_type": "code",
   "execution_count": 10,
   "metadata": {},
   "outputs": [
    {
     "name": "stdout",
     "output_type": "stream",
     "text": [
      "Collecting cryptography\n",
      "  Downloading cryptography-43.0.0-cp39-abi3-win_amd64.whl.metadata (5.4 kB)\n",
      "Collecting cffi>=1.12 (from cryptography)\n",
      "  Using cached cffi-1.16.0-cp312-cp312-win_amd64.whl.metadata (1.5 kB)\n",
      "Collecting pycparser (from cffi>=1.12->cryptography)\n",
      "  Using cached pycparser-2.22-py3-none-any.whl.metadata (943 bytes)\n",
      "Downloading cryptography-43.0.0-cp39-abi3-win_amd64.whl (3.1 MB)\n",
      "   ---------------------------------------- 0.0/3.1 MB ? eta -:--:--\n",
      "   ----- ---------------------------------- 0.4/3.1 MB 8.1 MB/s eta 0:00:01\n",
      "   ------------------------------ --------- 2.3/3.1 MB 24.6 MB/s eta 0:00:01\n",
      "   ---------------------------------------  3.1/3.1 MB 21.7 MB/s eta 0:00:01\n",
      "   ---------------------------------------- 3.1/3.1 MB 19.7 MB/s eta 0:00:00\n",
      "Using cached cffi-1.16.0-cp312-cp312-win_amd64.whl (181 kB)\n",
      "Using cached pycparser-2.22-py3-none-any.whl (117 kB)\n",
      "Installing collected packages: pycparser, cffi, cryptography\n",
      "Successfully installed cffi-1.16.0 cryptography-43.0.0 pycparser-2.22\n"
     ]
    },
    {
     "name": "stderr",
     "output_type": "stream",
     "text": [
      "\n",
      "[notice] A new release of pip is available: 24.1.1 -> 24.2\n",
      "[notice] To update, run: python.exe -m pip install --upgrade pip\n"
     ]
    }
   ],
   "source": [
    "! pip install cryptography\n"
   ]
  },
  {
   "cell_type": "code",
   "execution_count": 27,
   "metadata": {},
   "outputs": [
    {
     "name": "stdout",
     "output_type": "stream",
     "text": [
      "DataFrame nao foi carregado!\n"
     ]
    }
   ],
   "source": [
    "# Exibir o DataFrame\n",
    "if df_alunos is None:\n",
    "    print(df_alunos)\n",
    "else: \n",
    "    print(\"DataFrame nao foi carregado!\")"
   ]
  },
  {
   "cell_type": "code",
   "execution_count": 28,
   "metadata": {},
   "outputs": [
    {
     "data": {
      "text/plain": [
       "0    00034459\n",
       "1    00034460\n",
       "2    12345674\n",
       "3    12345670\n",
       "4    12345671\n",
       "5    12345672\n",
       "6    12345673\n",
       "Name: ra, dtype: object"
      ]
     },
     "execution_count": 28,
     "metadata": {},
     "output_type": "execute_result"
    }
   ],
   "source": [
    "df_alunos.ra"
   ]
  },
  {
   "cell_type": "code",
   "execution_count": 29,
   "metadata": {},
   "outputs": [
    {
     "data": {
      "text/plain": [
       "0    1\n",
       "1    2\n",
       "2    3\n",
       "3    4\n",
       "4    5\n",
       "5    6\n",
       "6    7\n",
       "Name: id, dtype: int64"
      ]
     },
     "execution_count": 29,
     "metadata": {},
     "output_type": "execute_result"
    }
   ],
   "source": [
    "df_alunos.id"
   ]
  },
  {
   "cell_type": "code",
   "execution_count": 30,
   "metadata": {},
   "outputs": [
    {
     "data": {
      "text/plain": [
       "(7, 2)"
      ]
     },
     "execution_count": 30,
     "metadata": {},
     "output_type": "execute_result"
    }
   ],
   "source": [
    "df_alunos.shape"
   ]
  },
  {
   "cell_type": "markdown",
   "metadata": {},
   "source": [
    "O atributo .shape em Python, quando aplicado a um DataFrame (ou a uma matriz), retorna uma tupla representando a dimensionalidade desse DataFrame. Essa tupla contém dois valores:\n",
    "\n",
    "O número de linhas (ou registros) no DataFrame.\n",
    "O número de colunas (ou campos) no DataFrame.\n",
    "Por exemplo, se você tiver um DataFrame chamado df_alunos, ao executar df_alunos.shape, o resultado será uma tupla com o número de linhas e colunas do DataFrame. Por exemplo:\n",
    "\n",
    "Python\n",
    "\n",
    "import pandas as pd\n",
    "\n",
    "# Exemplo de DataFrame\n",
    "df_alunos = pd.DataFrame({\n",
    "    'nome': ['Alice', 'Bob', 'Carol'],\n",
    "    'idade': [25, 30, 22]\n",
    "})\n",
    "\n",
    "# Obtendo a forma (linhas, colunas) do DataFrame\n",
    "print(df_alunos.shape)  # Saída: (3, 2)\n",
    "Código gerado por IA. Examine e use com cuidado. Mais informações em perguntas frequentes.\n",
    "Nesse caso, o DataFrame df_alunos tem 3 linhas (registros) e 2 colunas (campos). A tupla (3, 2) indica essa dimensionalidade.\n",
    "\n",
    "Portanto, o .shape é uma maneira conveniente de verificar rapidamente o tamanho do DataFrame em termos de linhas e colunas. "
   ]
  }
 ],
 "metadata": {
  "kernelspec": {
   "display_name": ".venv",
   "language": "python",
   "name": "python3"
  },
  "language_info": {
   "codemirror_mode": {
    "name": "ipython",
    "version": 3
   },
   "file_extension": ".py",
   "mimetype": "text/x-python",
   "name": "python",
   "nbconvert_exporter": "python",
   "pygments_lexer": "ipython3",
   "version": "3.12.3"
  }
 },
 "nbformat": 4,
 "nbformat_minor": 2
}
